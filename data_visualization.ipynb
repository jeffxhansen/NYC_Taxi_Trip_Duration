{
 "cells": [
  {
   "cell_type": "markdown",
   "metadata": {},
   "source": [
    "<h1>3. Data Visualization</h1>\n",
    "\n",
    "1. Analyze the data, draw conclusions, and effectively communicate your main observations and results.\n",
    "2. Calculate appropriate summary statistics.\n",
    "3. Use appropriate isualizations and other tools to thoughtfully identify and evaluate what the data is telling you andhow well suited the data are to answering your problem\n",
    "4. Make it pretty!"
   ]
  },
  {
   "cell_type": "markdown",
   "metadata": {},
   "source": [
    "<table>\n",
    "    <tr>\n",
    "        <td><img src=\"images/pickup_locations.png\" alt=\"pickup_locations\", width=600, height=500></td>\n",
    "        <td><img src=\"images/dropoff_locations.png\" alt=\"dropoff_locations\", width=600, height=500></td>\n",
    "    </tr>\n",
    "    <tr>\n",
    "        <td><img src=\"images/kmeans_100_pickup.png\" alt=\"kmeans_100_pickup\", width=600, height=500></td>\n",
    "        <td><img src=\"images/kmeans_100_dropoff.png\" alt=\"kmeans_100_dropoff\", width=600, height=500></td>\n",
    "    </tr>\n",
    "</table>\n"
   ]
  },
  {
   "cell_type": "code",
   "execution_count": null,
   "metadata": {},
   "outputs": [],
   "source": []
  }
 ],
 "metadata": {
  "language_info": {
   "name": "python"
  }
 },
 "nbformat": 4,
 "nbformat_minor": 2
}
