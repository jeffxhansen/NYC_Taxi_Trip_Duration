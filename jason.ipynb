{
 "cells": [
  {
   "cell_type": "code",
   "execution_count": 1,
   "metadata": {},
   "outputs": [],
   "source": [
    "import pandas as pd\n",
    "import numpy as np\n",
    "from py_files.data_manager import get_X_y\n",
    "from py_files.features import distance, generate_features\n",
    "from config import data_path\n",
    "\n",
    "import matplotlib.pyplot as plt\n",
    "from sklearn.model_selection import train_test_split, GridSearchCV\n",
    "from sklearn.ensemble import RandomForestRegressor\n",
    "from sklearn.metrics import mean_squared_log_error\n",
    "import time\n",
    "import xgboost as xgb\n",
    "pd.options.display.float_format = '{:.6f}'.format"
   ]
  },
  {
   "cell_type": "code",
   "execution_count": 3,
   "metadata": {},
   "outputs": [],
   "source": [
    "# X, y = get_X_y(force_clean=True)\n",
    "X, y = get_X_y()\n",
    "X = generate_features(X, y)\n",
    "X['pickup_datetime'] = pd.to_datetime(X['pickup_datetime'])"
   ]
  },
  {
   "cell_type": "code",
   "execution_count": 4,
   "metadata": {},
   "outputs": [],
   "source": [
    "X_train, X_test, y_train, y_test = train_test_split(X, np.log(y), test_size=0.2, random_state=42)"
   ]
  },
  {
   "cell_type": "code",
   "execution_count": 5,
   "metadata": {},
   "outputs": [
    {
     "name": "stdout",
     "output_type": "stream",
     "text": [
      "Fitting 3 folds for each of 64 candidates, totalling 192 fits\n"
     ]
    }
   ],
   "source": [
    "X1 = X.drop(columns=['id', 'vendor_id', 'pickup_datetime'])\n",
    "\n",
    "# Get test train split\n",
    "X_train, X_test, y_train, y_test = train_test_split(X1, y, test_size=0.2, random_state=42)\n",
    "\n",
    "# Create param grid\n",
    "param_grid = {\n",
    "    'booster': ['gbtree', 'dart'],\n",
    "    'n_estimators': [100, 200],\n",
    "    'learning_rate': [0.01, 0.05],\n",
    "    'max_depth': [10, 20],\n",
    "    'alpha': [0.1, 0.5],\n",
    "    'lambda': [0.1, 0.5],\n",
    "}\n",
    "\n",
    "# XGBoost\n",
    "xgb_model = xgb.XGBRegressor()\n",
    "\n",
    "# Grid search\n",
    "grid_search = GridSearchCV(estimator=xgb_model, param_grid=param_grid, cv=3, scoring='neg_root_mean_squared_error', verbose=1)\n",
    "grid_search.fit(X_train, y_train)\n",
    "\n",
    "# Best params\n",
    "print('Best parameters from grid search: ', grid_search.best_params_)\n"
   ]
  }
 ],
 "metadata": {
  "kernelspec": {
   "display_name": "base",
   "language": "python",
   "name": "python3"
  },
  "language_info": {
   "codemirror_mode": {
    "name": "ipython",
    "version": 3
   },
   "file_extension": ".py",
   "mimetype": "text/x-python",
   "name": "python",
   "nbconvert_exporter": "python",
   "pygments_lexer": "ipython3",
   "version": "3.8.18"
  }
 },
 "nbformat": 4,
 "nbformat_minor": 2
}
